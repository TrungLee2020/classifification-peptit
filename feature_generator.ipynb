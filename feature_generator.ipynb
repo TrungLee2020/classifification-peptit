{
 "cells": [
  {
   "cell_type": "code",
   "execution_count": 1,
   "id": "a3fdddca",
   "metadata": {},
   "outputs": [],
   "source": [
    "from iFeature.codes.AAC import *\n",
    "from iFeature.codes.DPC import *\n",
    "from iFeature.codes.TPC import *\n",
    "import numpy as np"
   ]
  },
  {
   "cell_type": "code",
   "execution_count": 2,
   "id": "0253b929",
   "metadata": {},
   "outputs": [
    {
     "ename": "TypeError",
     "evalue": "feature_generator() missing 2 required positional arguments: 'file_path' and 'temp_file_path'",
     "output_type": "error",
     "traceback": [
      "\u001b[0;31m---------------------------------------------------------------------------\u001b[0m",
      "\u001b[0;31mTypeError\u001b[0m                                 Traceback (most recent call last)",
      "\u001b[0;32m<ipython-input-2-23473ad050b5>\u001b[0m in \u001b[0;36m<module>\u001b[0;34m\u001b[0m\n\u001b[1;32m     35\u001b[0m     \u001b[0mnp\u001b[0m\u001b[0;34m.\u001b[0m\u001b[0msave\u001b[0m\u001b[0;34m(\u001b[0m\u001b[0mtemp_file_path\u001b[0m\u001b[0;34m,\u001b[0m \u001b[0maa_feature_list\u001b[0m\u001b[0;34m)\u001b[0m\u001b[0;34m\u001b[0m\u001b[0;34m\u001b[0m\u001b[0m\n\u001b[1;32m     36\u001b[0m     \u001b[0;32mreturn\u001b[0m \u001b[0mtemp_file_path\u001b[0m \u001b[0;34m+\u001b[0m \u001b[0;34m'.npy'\u001b[0m\u001b[0;34m\u001b[0m\u001b[0;34m\u001b[0m\u001b[0m\n\u001b[0;32m---> 37\u001b[0;31m \u001b[0mfea_gen\u001b[0m \u001b[0;34m=\u001b[0m \u001b[0mfeature_generator\u001b[0m\u001b[0;34m(\u001b[0m\u001b[0;34m)\u001b[0m\u001b[0;34m\u001b[0m\u001b[0;34m\u001b[0m\u001b[0m\n\u001b[0m",
      "\u001b[0;31mTypeError\u001b[0m: feature_generator() missing 2 required positional arguments: 'file_path' and 'temp_file_path'"
     ]
    }
   ],
   "source": [
    "def feature_generator(file_path, temp_file_path):\n",
    "    f = open(file_path, 'r', encoding='utf8')\n",
    "    fasta_list = np.array(f.readlines())\n",
    "    aa_feature_list = []\n",
    "    for flag in range(0, len(fasta_list), 2):\n",
    "        fasta_str = [[fasta_list[flag].strip('\\n').strip(), fasta_list[flag + 1].strip('\\n').strip()]]\n",
    "        aac_output = AAC(fasta_str)\n",
    "        dpc_output = DPC(fasta_str)\n",
    "        tpc_output = TPC(fasta_str)\n",
    "        \n",
    "        feature_id = aac_output[1][0].split('>')[1]\n",
    "        aac_output[1].remove(aac_output[1][0])\n",
    "        dpc_output[1].remove(dpc_output[1][0])\n",
    "        tpc_output[1].remove(tpc_output[1][0])\n",
    "        \n",
    "        aac_feature = []\n",
    "        dpc_feature = []\n",
    "        tpc_feature = []\n",
    "        \n",
    "        for i in range(0, len(aac_output[1]), 20):\n",
    "            temp = aac_output[1][i:i + 20]\n",
    "            aac_feature.append(temp)\n",
    "        for i in range(0, len(dpc_output[1]), 531):\n",
    "            temp = [float(i) for i in dpc_output[1][i:i + 531]]\n",
    "            dpc_feature.append(temp)\n",
    "        for i in range(0, len(tpc_output[1]), 20):\n",
    "            temp = tpc_output[1][i:i + 20]\n",
    "            tpc_feature.append(temp)\n",
    "\n",
    "        aa_fea_matrx = np.hstack(\n",
    "            [np.array(aac_feature), np.array(dpc_feature), np.array(tpc_feature)])\n",
    "        aa_feature_list.append([feature_id, aa_fea_matrx])\n",
    "    np.save(temp_file_path, aa_feature_list)\n",
    "    return temp_file_path + '.npy'\n",
    "fea_gen = feature_generator(file_path='', temp_file_path='')"
   ]
  },
  {
   "cell_type": "code",
   "execution_count": null,
   "id": "2de02117",
   "metadata": {},
   "outputs": [],
   "source": []
  }
 ],
 "metadata": {
  "kernelspec": {
   "display_name": "Python 3",
   "language": "python",
   "name": "python3"
  },
  "language_info": {
   "codemirror_mode": {
    "name": "ipython",
    "version": 3
   },
   "file_extension": ".py",
   "mimetype": "text/x-python",
   "name": "python",
   "nbconvert_exporter": "python",
   "pygments_lexer": "ipython3",
   "version": "3.6.9"
  }
 },
 "nbformat": 4,
 "nbformat_minor": 5
}
