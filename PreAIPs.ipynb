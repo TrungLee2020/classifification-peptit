{
 "cells": [
  {
   "cell_type": "code",
   "execution_count": 13,
   "id": "296286c4",
   "metadata": {},
   "outputs": [],
   "source": [
    "import numpy as np\n",
    "import pandas as pd\n",
    "import matplotlib.pyplot as plt\n",
    "from feature_genarator import *\n",
    "from sklearn.metrics import accuracy_score,roc_auc_score\n",
    "from sklearn.ensemble import RandomForestClassifier\n",
    "from sklearn.metrics import make_scorer\n",
    "from sklearn.model_selection import GridSearchCV\n",
    "from sklearn.model_selection import StratifiedKFold\n",
    "from scipy.io import loadmat\n",
    "from iFeature.codes import *"
   ]
  },
  {
   "cell_type": "code",
   "execution_count": 14,
   "id": "e9eb74ac",
   "metadata": {},
   "outputs": [],
   "source": [
    "# pos = 'datas/AIP/Ind-positive.txt'\n",
    "# neg = 'datas/AIP/Ind-negative.txt'\n"
   ]
  },
  {
   "cell_type": "code",
   "execution_count": 15,
   "id": "82196910",
   "metadata": {},
   "outputs": [
    {
     "ename": "KeyError",
     "evalue": "'order'",
     "output_type": "error",
     "traceback": [
      "\u001b[0;31m---------------------------------------------------------------------------\u001b[0m",
      "\u001b[0;31mKeyError\u001b[0m                                  Traceback (most recent call last)",
      "\u001b[0;32m<ipython-input-15-eb4b9a26b87e>\u001b[0m in \u001b[0;36m<module>\u001b[0;34m\u001b[0m\n\u001b[1;32m      7\u001b[0m     \u001b[0;32mreturn\u001b[0m \u001b[0mdf_in\u001b[0m\u001b[0;34m\u001b[0m\u001b[0;34m\u001b[0m\u001b[0m\n\u001b[1;32m      8\u001b[0m \u001b[0;34m\u001b[0m\u001b[0m\n\u001b[0;32m----> 9\u001b[0;31m \u001b[0maac\u001b[0m\u001b[0;34m(\u001b[0m\u001b[0;34m'datas/AIP/Ind-negative.txt'\u001b[0m\u001b[0;34m)\u001b[0m\u001b[0;34m\u001b[0m\u001b[0;34m\u001b[0m\u001b[0m\n\u001b[0m",
      "\u001b[0;32m<ipython-input-15-eb4b9a26b87e>\u001b[0m in \u001b[0;36maac\u001b[0;34m(input)\u001b[0m\n\u001b[1;32m      3\u001b[0m     \u001b[0ma\u001b[0m \u001b[0;34m=\u001b[0m \u001b[0minput\u001b[0m\u001b[0;34m.\u001b[0m\u001b[0mrstrip\u001b[0m\u001b[0;34m(\u001b[0m\u001b[0;34m'txt'\u001b[0m\u001b[0;34m)\u001b[0m\u001b[0;34m\u001b[0m\u001b[0;34m\u001b[0m\u001b[0m\n\u001b[1;32m      4\u001b[0m     \u001b[0mout\u001b[0m \u001b[0;34m=\u001b[0m \u001b[0ma\u001b[0m \u001b[0;34m+\u001b[0m \u001b[0;34m'aac.csv'\u001b[0m\u001b[0;34m\u001b[0m\u001b[0;34m\u001b[0m\u001b[0m\n\u001b[0;32m----> 5\u001b[0;31m     \u001b[0mdf_out\u001b[0m \u001b[0;34m=\u001b[0m \u001b[0mAAC\u001b[0m\u001b[0;34m(\u001b[0m\u001b[0minput\u001b[0m\u001b[0;34m)\u001b[0m\u001b[0;34m\u001b[0m\u001b[0;34m\u001b[0m\u001b[0m\n\u001b[0m\u001b[1;32m      6\u001b[0m     \u001b[0mdf_in\u001b[0m \u001b[0;34m=\u001b[0m \u001b[0mpd\u001b[0m\u001b[0;34m.\u001b[0m\u001b[0mread_csv\u001b[0m\u001b[0;34m(\u001b[0m\u001b[0mout\u001b[0m\u001b[0;34m)\u001b[0m\u001b[0;34m\u001b[0m\u001b[0;34m\u001b[0m\u001b[0m\n\u001b[1;32m      7\u001b[0m     \u001b[0;32mreturn\u001b[0m \u001b[0mdf_in\u001b[0m\u001b[0;34m\u001b[0m\u001b[0;34m\u001b[0m\u001b[0m\n",
      "\u001b[0;32m~/Downloads/project_final_AI/iFeature/codes/AAC.py\u001b[0m in \u001b[0;36mAAC\u001b[0;34m(fastas, **kw)\u001b[0m\n\u001b[1;32m      6\u001b[0m \u001b[0;34m\u001b[0m\u001b[0m\n\u001b[1;32m      7\u001b[0m \u001b[0;32mdef\u001b[0m \u001b[0mAAC\u001b[0m\u001b[0;34m(\u001b[0m\u001b[0mfastas\u001b[0m\u001b[0;34m,\u001b[0m \u001b[0;34m**\u001b[0m\u001b[0mkw\u001b[0m\u001b[0;34m)\u001b[0m\u001b[0;34m:\u001b[0m\u001b[0;34m\u001b[0m\u001b[0;34m\u001b[0m\u001b[0m\n\u001b[0;32m----> 8\u001b[0;31m         \u001b[0mAA\u001b[0m \u001b[0;34m=\u001b[0m \u001b[0mkw\u001b[0m\u001b[0;34m[\u001b[0m\u001b[0;34m'order'\u001b[0m\u001b[0;34m]\u001b[0m \u001b[0;32mif\u001b[0m \u001b[0mkw\u001b[0m\u001b[0;34m[\u001b[0m\u001b[0;34m'order'\u001b[0m\u001b[0;34m]\u001b[0m \u001b[0;34m!=\u001b[0m \u001b[0;32mNone\u001b[0m \u001b[0;32melse\u001b[0m \u001b[0;34m'ACDEFGHIKLMNPQRSTVWY'\u001b[0m\u001b[0;34m\u001b[0m\u001b[0;34m\u001b[0m\u001b[0m\n\u001b[0m\u001b[1;32m      9\u001b[0m         \u001b[0;31m#AA = 'ARNDCQEGHILKMFPSTWYV'\u001b[0m\u001b[0;34m\u001b[0m\u001b[0;34m\u001b[0m\u001b[0;34m\u001b[0m\u001b[0m\n\u001b[1;32m     10\u001b[0m         \u001b[0mencodings\u001b[0m \u001b[0;34m=\u001b[0m \u001b[0;34m[\u001b[0m\u001b[0;34m]\u001b[0m\u001b[0;34m\u001b[0m\u001b[0;34m\u001b[0m\u001b[0m\n",
      "\u001b[0;31mKeyError\u001b[0m: 'order'"
     ]
    }
   ],
   "source": [
    "from iFeature.codes.AAC import AAC\n",
    "def aac(input):\n",
    "    a = input.rstrip('txt')\n",
    "    out = a + 'aac.csv'\n",
    "    df_out = AAC(input)\n",
    "    df_in = pd.read_csv(out)\n",
    "    return df_in\n",
    "\n",
    "aac('datas/AIP/Ind-negative.txt')"
   ]
  },
  {
   "cell_type": "code",
   "execution_count": 16,
   "id": "13822caf",
   "metadata": {},
   "outputs": [
    {
     "ename": "NameError",
     "evalue": "name 'pos' is not defined",
     "output_type": "error",
     "traceback": [
      "\u001b[0;31m---------------------------------------------------------------------------\u001b[0m",
      "\u001b[0;31mNameError\u001b[0m                                 Traceback (most recent call last)",
      "\u001b[0;32m<ipython-input-16-4121a7e334e6>\u001b[0m in \u001b[0;36m<module>\u001b[0;34m\u001b[0m\n\u001b[0;32m----> 1\u001b[0;31m \u001b[0mpos\u001b[0m\u001b[0;34m.\u001b[0m\u001b[0mkeys\u001b[0m\u001b[0;34m(\u001b[0m\u001b[0;34m)\u001b[0m\u001b[0;34m\u001b[0m\u001b[0;34m\u001b[0m\u001b[0m\n\u001b[0m",
      "\u001b[0;31mNameError\u001b[0m: name 'pos' is not defined"
     ]
    }
   ],
   "source": [
    "pos.keys()"
   ]
  },
  {
   "cell_type": "code",
   "execution_count": 18,
   "id": "07230f88",
   "metadata": {},
   "outputs": [],
   "source": [
    "data2 = loadmat('data_test/Pse pssm.mat')"
   ]
  },
  {
   "cell_type": "code",
   "execution_count": 21,
   "id": "23ed198f",
   "metadata": {},
   "outputs": [
    {
     "data": {
      "text/plain": [
       "dict_keys(['__header__', '__version__', '__globals__', 'feature'])"
      ]
     },
     "execution_count": 21,
     "metadata": {},
     "output_type": "execute_result"
    }
   ],
   "source": [
    "data2.keys()\n",
    "# data2.shape\n",
    "# data2.head()"
   ]
  },
  {
   "cell_type": "code",
   "execution_count": 22,
   "id": "1c2ca0d0",
   "metadata": {},
   "outputs": [
    {
     "data": {
      "text/plain": [
       "array([[ 0.3573961 ,  0.18508732,  0.26064983, ..., -0.        ,\n",
       "        -0.        , -0.        ],\n",
       "       [ 0.40848067,  0.2814922 ,  0.34532204, ..., -0.        ,\n",
       "        -0.        , -0.        ],\n",
       "       [ 0.1996597 ,  0.30070361,  0.1996597 , ..., -0.        ,\n",
       "        -0.        , -0.        ],\n",
       "       ...,\n",
       "       [ 0.41914162,  0.30404848,  0.38544056, ..., -0.        ,\n",
       "        -0.        , -0.        ],\n",
       "       [ 0.30461034,  0.2756512 ,  0.2756512 , ..., -0.        ,\n",
       "        -0.        , -0.        ],\n",
       "       [ 0.3009676 ,  0.26109138,  0.34602386, ..., -0.        ,\n",
       "        -0.        , -0.        ]], dtype=float32)"
      ]
     },
     "execution_count": 22,
     "metadata": {},
     "output_type": "execute_result"
    }
   ],
   "source": [
    "data2['feature']"
   ]
  },
  {
   "cell_type": "code",
   "execution_count": 26,
   "id": "68805c69",
   "metadata": {},
   "outputs": [],
   "source": [
    "y = [data2['feature']==0]"
   ]
  },
  {
   "cell_type": "code",
   "execution_count": 32,
   "id": "d3d2b0e4",
   "metadata": {},
   "outputs": [
    {
     "ename": "AttributeError",
     "evalue": "'list' object has no attribute 'value'",
     "output_type": "error",
     "traceback": [
      "\u001b[0;31m---------------------------------------------------------------------------\u001b[0m",
      "\u001b[0;31mAttributeError\u001b[0m                            Traceback (most recent call last)",
      "\u001b[0;32m<ipython-input-32-765902bc6148>\u001b[0m in \u001b[0;36m<module>\u001b[0;34m\u001b[0m\n\u001b[0;32m----> 1\u001b[0;31m \u001b[0my\u001b[0m\u001b[0;34m.\u001b[0m\u001b[0mvalue\u001b[0m\u001b[0;34m(\u001b[0m\u001b[0;34m)\u001b[0m\u001b[0;34m\u001b[0m\u001b[0;34m\u001b[0m\u001b[0m\n\u001b[0m",
      "\u001b[0;31mAttributeError\u001b[0m: 'list' object has no attribute 'value'"
     ]
    }
   ],
   "source": [
    "y.value()\n"
   ]
  },
  {
   "cell_type": "code",
   "execution_count": 33,
   "id": "9dd4456d",
   "metadata": {},
   "outputs": [],
   "source": [
    "data2 = loadmat('data_test/all_whsx_list.mat')"
   ]
  },
  {
   "cell_type": "code",
   "execution_count": 34,
   "id": "ecac6093",
   "metadata": {},
   "outputs": [
    {
     "name": "stdout",
     "output_type": "stream",
     "text": [
      "{'__header__': b'MATLAB 5.0 MAT-file, Platform: PCWIN64, Created on: Fri Apr 13 21:09:59 2018', '__version__': '1.0', '__globals__': [], 'all_whsx': array([[array(['89.000'], dtype='<U6'), array(['174.000'], dtype='<U7'),\n",
      "        array(['132.000'], dtype='<U7'), ...,\n",
      "        array(['204.000'], dtype='<U7'), array(['181.000'], dtype='<U7'),\n",
      "        array(['117.000'], dtype='<U7')],\n",
      "       [array(['4.000'], dtype='<U5'), array(['6.000'], dtype='<U5'),\n",
      "        array(['2.000'], dtype='<U5'), ...,\n",
      "        array(['1.000'], dtype='<U5'), array(['2.000'], dtype='<U5'),\n",
      "        array(['4.000'], dtype='<U5')],\n",
      "       [array(['11.500'], dtype='<U6'), array(['14.280'], dtype='<U6'),\n",
      "        array(['12.820'], dtype='<U6'), ...,\n",
      "        array(['21.670'], dtype='<U6'), array(['18.030'], dtype='<U6'),\n",
      "        array(['21.570'], dtype='<U6')],\n",
      "       ...,\n",
      "       [array(['8.300'], dtype='<U5'), array(['5.700'], dtype='<U5'),\n",
      "        array(['4.400'], dtype='<U5'), ...,\n",
      "        array(['1.300'], dtype='<U5'), array(['3.200'], dtype='<U5'),\n",
      "        array(['6.600'], dtype='<U5')],\n",
      "       [array(['8.25'], dtype='<U4'), array(['5.53'], dtype='<U4'),\n",
      "        array(['4.06'], dtype='<U4'), ..., array(['1.08'], dtype='<U4'),\n",
      "        array(['2.92'], dtype='<U4'), array(['6.87'], dtype='<U4')],\n",
      "       [array(['100.000'], dtype='<U7'), array(['65.000'], dtype='<U6'),\n",
      "        array(['134.000'], dtype='<U7'), ...,\n",
      "        array(['18.000'], dtype='<U6'), array(['41.000'], dtype='<U6'),\n",
      "        array(['74.000'], dtype='<U6')]], dtype=object)}\n"
     ]
    }
   ],
   "source": [
    "print(data2)"
   ]
  },
  {
   "cell_type": "code",
   "execution_count": 35,
   "id": "b1305ceb",
   "metadata": {},
   "outputs": [
    {
     "data": {
      "text/plain": [
       "dict_keys(['__header__', '__version__', '__globals__', 'all_whsx'])"
      ]
     },
     "execution_count": 35,
     "metadata": {},
     "output_type": "execute_result"
    }
   ],
   "source": [
    "data2.keys()"
   ]
  },
  {
   "cell_type": "code",
   "execution_count": 36,
   "id": "321c6f74",
   "metadata": {},
   "outputs": [
    {
     "data": {
      "text/plain": [
       "array([[array(['89.000'], dtype='<U6'), array(['174.000'], dtype='<U7'),\n",
       "        array(['132.000'], dtype='<U7'), ...,\n",
       "        array(['204.000'], dtype='<U7'), array(['181.000'], dtype='<U7'),\n",
       "        array(['117.000'], dtype='<U7')],\n",
       "       [array(['4.000'], dtype='<U5'), array(['6.000'], dtype='<U5'),\n",
       "        array(['2.000'], dtype='<U5'), ...,\n",
       "        array(['1.000'], dtype='<U5'), array(['2.000'], dtype='<U5'),\n",
       "        array(['4.000'], dtype='<U5')],\n",
       "       [array(['11.500'], dtype='<U6'), array(['14.280'], dtype='<U6'),\n",
       "        array(['12.820'], dtype='<U6'), ...,\n",
       "        array(['21.670'], dtype='<U6'), array(['18.030'], dtype='<U6'),\n",
       "        array(['21.570'], dtype='<U6')],\n",
       "       ...,\n",
       "       [array(['8.300'], dtype='<U5'), array(['5.700'], dtype='<U5'),\n",
       "        array(['4.400'], dtype='<U5'), ...,\n",
       "        array(['1.300'], dtype='<U5'), array(['3.200'], dtype='<U5'),\n",
       "        array(['6.600'], dtype='<U5')],\n",
       "       [array(['8.25'], dtype='<U4'), array(['5.53'], dtype='<U4'),\n",
       "        array(['4.06'], dtype='<U4'), ..., array(['1.08'], dtype='<U4'),\n",
       "        array(['2.92'], dtype='<U4'), array(['6.87'], dtype='<U4')],\n",
       "       [array(['100.000'], dtype='<U7'), array(['65.000'], dtype='<U6'),\n",
       "        array(['134.000'], dtype='<U7'), ...,\n",
       "        array(['18.000'], dtype='<U6'), array(['41.000'], dtype='<U6'),\n",
       "        array(['74.000'], dtype='<U6')]], dtype=object)"
      ]
     },
     "execution_count": 36,
     "metadata": {},
     "output_type": "execute_result"
    }
   ],
   "source": [
    "data2['all_whsx']"
   ]
  },
  {
   "cell_type": "code",
   "execution_count": null,
   "id": "6586f3c9",
   "metadata": {},
   "outputs": [],
   "source": []
  }
 ],
 "metadata": {
  "kernelspec": {
   "display_name": "Python 3",
   "language": "python",
   "name": "python3"
  },
  "language_info": {
   "codemirror_mode": {
    "name": "ipython",
    "version": 3
   },
   "file_extension": ".py",
   "mimetype": "text/x-python",
   "name": "python",
   "nbconvert_exporter": "python",
   "pygments_lexer": "ipython3",
   "version": "3.6.9"
  }
 },
 "nbformat": 4,
 "nbformat_minor": 5
}
